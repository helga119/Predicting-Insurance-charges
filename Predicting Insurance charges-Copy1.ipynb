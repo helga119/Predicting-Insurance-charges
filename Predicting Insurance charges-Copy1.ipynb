{
 "cells": [
  {
   "cell_type": "markdown",
   "id": "6918e18a-c248-4929-b552-7aee2057c0eb",
   "metadata": {
    "collapsed": false,
    "jupyter": {
     "outputs_hidden": false,
     "source_hidden": false
    }
   },
   "source": [
    "![](image.jpg)\n",
    "\n",
    "\n",
    "For a Health Insurance company, I will predict customer healthcare costs using the power of machine learning. My insights will help tailor services and guide customers in planning their healthcare expenses more effectively.\n",
    "\n"
   ]
  },
  {
   "cell_type": "code",
   "execution_count": 10,
   "id": "81a07c66-a3d4-4fdd-9c3c-7b3a19b80d62",
   "metadata": {
    "executionCancelledAt": null,
    "executionTime": 84,
    "lastExecutedAt": 1717263385058,
    "lastExecutedByKernel": "8515893e-ca0d-4c80-95a0-10c2d7373fd4",
    "lastScheduledRunId": null,
    "lastSuccessfullyExecutedCode": "import pandas as pd\nfrom sklearn.linear_model import LinearRegression\nfrom sklearn.model_selection import cross_val_score\nfrom sklearn.preprocessing import StandardScaler\nfrom sklearn.pipeline import Pipeline\nimport numpy as np\n\n# Load the dataset\ninsurance_data_path = 'insurance.csv'\ninsurance = pd.read_csv(insurance_data_path)\n\ndef clean_dataset(insurance):\n    \"\"\"\n    Cleans the insurance dataset by performing several preprocessing tasks:\n    - Corrects the 'sex' column values to a standard format ('male', 'female').\n    - Removes the dollar sign from the 'charges' column and converts it to float.\n    - Drops negative 'age' values.\n    - Converts negative 'children' values to zero.\n    - Converts 'region' values to lowercase.\n    - Drops rows with any missing values.\n    \n    Parameters:\n    - insurance: pandas DataFrame, the insurance dataset.\n    \n    Returns:\n    - DataFrame after cleaning.\n    \"\"\"\n    insurance['sex'] = insurance['sex'].replace({'M': 'male', 'man': 'male', 'F': 'female', 'woman': 'female'})\n    insurance['charges'] = insurance['charges'].replace({'\\$': ''}, regex=True).astype(float)\n    insurance = insurance[insurance[\"age\"] > 0]\n    insurance.loc[insurance[\"children\"] < 0, \"children\"] = 0\n    insurance[\"region\"] = insurance[\"region\"].str.lower()\n\n    return insurance.dropna()\n\ndef create_and_evaluate_regression_model(insurance):\n    \"\"\"\n    Prepares the data, fits a linear regression model, and evaluates it using cross-validation.\n    \n    Parameters:\n    - insurance: pandas DataFrame, the cleaned insurance dataset.\n    \n    Returns:\n    - A tuple containing the fitted sklearn Pipeline object, mean MSE, and mean R2 scores.\n    \"\"\"\n    # Preprocessing\n    X = insurance.drop('charges', axis=1)\n    y = insurance['charges']\n    categorical_features = ['sex', 'smoker', 'region']\n    numerical_features = ['age', 'bmi', 'children']\n    \n    # Convert categorical variables to dummy variables\n    X_categorical = pd.get_dummies(X[categorical_features], drop_first=True)\n    \n    # Combine numerical features with dummy variables\n    X_processed = pd.concat([X[numerical_features], X_categorical], axis=1)\n    # Scaling numerical features\n    scaler = StandardScaler()\n    X_scaled = scaler.fit_transform(X_processed)\n    # Linear regression model\n    lin_reg = LinearRegression()\n    \n    # Pipeline\n    steps = [(\"scaler\", scaler), (\"lin_reg\", lin_reg)]\n    insurance_model_pipeline = Pipeline(steps)\n    \n    # Fitting the model\n    insurance_model_pipeline.fit(X_scaled, y)\n    \n    # Evaluating the model\n    mse_scores = -cross_val_score(insurance_model_pipeline, X_scaled, y, cv=5, scoring='neg_mean_squared_error')\n    r2_scores = cross_val_score(insurance_model_pipeline, X_scaled, y, cv=5, scoring='r2')\n    mean_mse = np.mean(mse_scores)\n    mean_r2 = np.mean(r2_scores)\n    \n    return insurance_model_pipeline, mean_mse, mean_r2\n\n# Usage example\ncleaned_insurance = clean_dataset(insurance)\ninsurance_model, mean_mse, r2_score = create_and_evaluate_regression_model(cleaned_insurance)\nprint(\"Mean MSE:\", mean_mse)\nprint(\"Mean R2:\", r2_score)\n\n# Predict on validation data\nvalidation_data_path = 'validation_dataset.csv'\nvalidation_data = pd.read_csv(validation_data_path)\n\n# Ensure categorical variables are properly transformed\nvalidation_data_processed = pd.get_dummies(validation_data, columns=['sex', 'smoker', 'region'], drop_first=True)\n\n# Make predictions using the trained model\nvalidation_predictions = insurance_model.predict(validation_data_processed)\n\n# Add predicted charges to the validation data\nvalidation_data['predicted_charges'] = validation_predictions\n\n# Adjust predictions to ensure minimum charge is $1000\nvalidation_data.loc[validation_data['predicted_charges'] < 1000, 'predicted_charges'] = 1000\n\n# Display the updated dataframe\nvalidation_data.head()",
    "outputsMetadata": {
     "0": {
      "height": 59,
      "type": "stream"
     },
     "1": {
      "height": 194,
      "type": "dataFrame"
     }
    }
   },
   "outputs": [
    {
     "name": "stdout",
     "output_type": "stream",
     "text": [
      "Mean MSE: 37431001.52191915\n",
      "Mean R2: 0.7450511466263761\n"
     ]
    },
    {
     "data": {
      "application/com.datacamp.data-table.v2+json": {
       "table": {
        "data": {
         "age": [
          18,
          39,
          27,
          71,
          28
         ],
         "bmi": [
          24.09,
          26.41,
          29.15,
          65.5021352956,
          38.06
         ],
         "children": [
          1,
          0,
          0,
          13,
          0
         ],
         "index": [
          0,
          1,
          2,
          3,
          4
         ],
         "predicted_charges": [
          128624.1956431043,
          220740.5374488108,
          181357.5886058476,
          423490.68727023,
          193247.4319890941
         ],
         "region": [
          "southeast",
          "northeast",
          "southeast",
          "southeast",
          "southeast"
         ],
         "sex": [
          "female",
          "male",
          "male",
          "male",
          "male"
         ],
         "smoker": [
          "no",
          "yes",
          "yes",
          "yes",
          "no"
         ]
        },
        "schema": {
         "fields": [
          {
           "name": "index",
           "type": "integer"
          },
          {
           "name": "age",
           "type": "number"
          },
          {
           "name": "sex",
           "type": "string"
          },
          {
           "name": "bmi",
           "type": "number"
          },
          {
           "name": "children",
           "type": "number"
          },
          {
           "name": "smoker",
           "type": "string"
          },
          {
           "name": "region",
           "type": "string"
          },
          {
           "name": "predicted_charges",
           "type": "number"
          }
         ],
         "pandas_version": "1.4.0",
         "primaryKey": [
          "index"
         ]
        }
       },
       "total_rows": 5,
       "truncation_type": null
      },
      "text/html": [
       "<div>\n",
       "<style scoped>\n",
       "    .dataframe tbody tr th:only-of-type {\n",
       "        vertical-align: middle;\n",
       "    }\n",
       "\n",
       "    .dataframe tbody tr th {\n",
       "        vertical-align: top;\n",
       "    }\n",
       "\n",
       "    .dataframe thead th {\n",
       "        text-align: right;\n",
       "    }\n",
       "</style>\n",
       "<table border=\"1\" class=\"dataframe\">\n",
       "  <thead>\n",
       "    <tr style=\"text-align: right;\">\n",
       "      <th></th>\n",
       "      <th>age</th>\n",
       "      <th>sex</th>\n",
       "      <th>bmi</th>\n",
       "      <th>children</th>\n",
       "      <th>smoker</th>\n",
       "      <th>region</th>\n",
       "      <th>predicted_charges</th>\n",
       "    </tr>\n",
       "  </thead>\n",
       "  <tbody>\n",
       "    <tr>\n",
       "      <th>0</th>\n",
       "      <td>18.0</td>\n",
       "      <td>female</td>\n",
       "      <td>24.090000</td>\n",
       "      <td>1.0</td>\n",
       "      <td>no</td>\n",
       "      <td>southeast</td>\n",
       "      <td>128624.195643</td>\n",
       "    </tr>\n",
       "    <tr>\n",
       "      <th>1</th>\n",
       "      <td>39.0</td>\n",
       "      <td>male</td>\n",
       "      <td>26.410000</td>\n",
       "      <td>0.0</td>\n",
       "      <td>yes</td>\n",
       "      <td>northeast</td>\n",
       "      <td>220740.537449</td>\n",
       "    </tr>\n",
       "    <tr>\n",
       "      <th>2</th>\n",
       "      <td>27.0</td>\n",
       "      <td>male</td>\n",
       "      <td>29.150000</td>\n",
       "      <td>0.0</td>\n",
       "      <td>yes</td>\n",
       "      <td>southeast</td>\n",
       "      <td>181357.588606</td>\n",
       "    </tr>\n",
       "    <tr>\n",
       "      <th>3</th>\n",
       "      <td>71.0</td>\n",
       "      <td>male</td>\n",
       "      <td>65.502135</td>\n",
       "      <td>13.0</td>\n",
       "      <td>yes</td>\n",
       "      <td>southeast</td>\n",
       "      <td>423490.687270</td>\n",
       "    </tr>\n",
       "    <tr>\n",
       "      <th>4</th>\n",
       "      <td>28.0</td>\n",
       "      <td>male</td>\n",
       "      <td>38.060000</td>\n",
       "      <td>0.0</td>\n",
       "      <td>no</td>\n",
       "      <td>southeast</td>\n",
       "      <td>193247.431989</td>\n",
       "    </tr>\n",
       "  </tbody>\n",
       "</table>\n",
       "</div>"
      ],
      "text/plain": [
       "    age     sex        bmi  children smoker     region  predicted_charges\n",
       "0  18.0  female  24.090000       1.0     no  southeast      128624.195643\n",
       "1  39.0    male  26.410000       0.0    yes  northeast      220740.537449\n",
       "2  27.0    male  29.150000       0.0    yes  southeast      181357.588606\n",
       "3  71.0    male  65.502135      13.0    yes  southeast      423490.687270\n",
       "4  28.0    male  38.060000       0.0     no  southeast      193247.431989"
      ]
     },
     "execution_count": 10,
     "metadata": {},
     "output_type": "execute_result"
    }
   ],
   "source": [
    "import pandas as pd\n",
    "from sklearn.linear_model import LinearRegression\n",
    "from sklearn.model_selection import cross_val_score\n",
    "from sklearn.preprocessing import StandardScaler\n",
    "from sklearn.pipeline import Pipeline\n",
    "import numpy as np\n",
    "\n",
    "# Load the dataset\n",
    "insurance_data_path = 'insurance.csv'\n",
    "insurance = pd.read_csv(insurance_data_path)\n",
    "\n",
    "def clean_dataset(insurance):\n",
    "    \"\"\"\n",
    "    Cleans the insurance dataset by performing several preprocessing tasks:\n",
    "    - Corrects the 'sex' column values to a standard format ('male', 'female').\n",
    "    - Removes the dollar sign from the 'charges' column and converts it to float.\n",
    "    - Drops negative 'age' values.\n",
    "    - Converts negative 'children' values to zero.\n",
    "    - Converts 'region' values to lowercase.\n",
    "    - Drops rows with any missing values.\n",
    "    \n",
    "    Parameters:\n",
    "    - insurance: pandas DataFrame, the insurance dataset.\n",
    "    \n",
    "    Returns:\n",
    "    - DataFrame after cleaning.\n",
    "    \"\"\"\n",
    "    insurance['sex'] = insurance['sex'].replace({'M': 'male', 'man': 'male', 'F': 'female', 'woman': 'female'})\n",
    "    insurance['charges'] = insurance['charges'].replace({'\\$': ''}, regex=True).astype(float)\n",
    "    insurance = insurance[insurance[\"age\"] > 0]\n",
    "    insurance.loc[insurance[\"children\"] < 0, \"children\"] = 0\n",
    "    insurance[\"region\"] = insurance[\"region\"].str.lower()\n",
    "\n",
    "    return insurance.dropna()\n",
    "\n",
    "def create_and_evaluate_regression_model(insurance):\n",
    "    \"\"\"\n",
    "    Prepares the data, fits a linear regression model, and evaluates it using cross-validation.\n",
    "    \n",
    "    Parameters:\n",
    "    - insurance: pandas DataFrame, the cleaned insurance dataset.\n",
    "    \n",
    "    Returns:\n",
    "    - A tuple containing the fitted sklearn Pipeline object, mean MSE, and mean R2 scores.\n",
    "    \"\"\"\n",
    "    # Preprocessing\n",
    "    X = insurance.drop('charges', axis=1)\n",
    "    y = insurance['charges']\n",
    "    categorical_features = ['sex', 'smoker', 'region']\n",
    "    numerical_features = ['age', 'bmi', 'children']\n",
    "    \n",
    "    # Convert categorical variables to dummy variables\n",
    "    X_categorical = pd.get_dummies(X[categorical_features], drop_first=True)\n",
    "    \n",
    "    # Combine numerical features with dummy variables\n",
    "    X_processed = pd.concat([X[numerical_features], X_categorical], axis=1)\n",
    "    # Scaling numerical features\n",
    "    scaler = StandardScaler()\n",
    "    X_scaled = scaler.fit_transform(X_processed)\n",
    "    # Linear regression model\n",
    "    lin_reg = LinearRegression()\n",
    "    \n",
    "    # Pipeline\n",
    "    steps = [(\"scaler\", scaler), (\"lin_reg\", lin_reg)]\n",
    "    insurance_model_pipeline = Pipeline(steps)\n",
    "    \n",
    "    # Fitting the model\n",
    "    insurance_model_pipeline.fit(X_scaled, y)\n",
    "    \n",
    "    # Evaluating the model\n",
    "    mse_scores = -cross_val_score(insurance_model_pipeline, X_scaled, y, cv=5, scoring='neg_mean_squared_error')\n",
    "    r2_scores = cross_val_score(insurance_model_pipeline, X_scaled, y, cv=5, scoring='r2')\n",
    "    mean_mse = np.mean(mse_scores)\n",
    "    mean_r2 = np.mean(r2_scores)\n",
    "    \n",
    "    return insurance_model_pipeline, mean_mse, mean_r2\n",
    "\n",
    "# Usage example\n",
    "cleaned_insurance = clean_dataset(insurance)\n",
    "insurance_model, mean_mse, r2_score = create_and_evaluate_regression_model(cleaned_insurance)\n",
    "print(\"Mean MSE:\", mean_mse)\n",
    "print(\"Mean R2:\", r2_score)\n",
    "\n",
    "# Predict on validation data\n",
    "validation_data_path = 'validation_dataset.csv'\n",
    "validation_data = pd.read_csv(validation_data_path)\n",
    "\n",
    "# Ensure categorical variables are properly transformed\n",
    "validation_data_processed = pd.get_dummies(validation_data, columns=['sex', 'smoker', 'region'], drop_first=True)\n",
    "\n",
    "# Make predictions using the trained model\n",
    "validation_predictions = insurance_model.predict(validation_data_processed)\n",
    "\n",
    "# Add predicted charges to the validation data\n",
    "validation_data['predicted_charges'] = validation_predictions\n",
    "\n",
    "# Adjust predictions to ensure minimum charge is $1000\n",
    "validation_data.loc[validation_data['predicted_charges'] < 1000, 'predicted_charges'] = 1000\n",
    "\n",
    "# Display the updated dataframe\n",
    "validation_data.head()"
   ]
  },
  {
   "cell_type": "code",
   "execution_count": 11,
   "id": "a143c3b2-1ff1-47a0-8fc6-662b8b19dbf1",
   "metadata": {
    "executionCancelledAt": null,
    "executionTime": 47,
    "lastExecutedAt": 1717263385105,
    "lastExecutedByKernel": "8515893e-ca0d-4c80-95a0-10c2d7373fd4",
    "lastScheduledRunId": null,
    "lastSuccessfullyExecutedCode": "# Implement model creation and training here\n# Use as many cells as you need"
   },
   "outputs": [],
   "source": []
  }
 ],
 "metadata": {
  "colab": {
   "name": "Welcome to DataCamp Workspaces.ipynb",
   "provenance": []
  },
  "kernelspec": {
   "display_name": "Python 3 (ipykernel)",
   "language": "python",
   "name": "python3"
  },
  "language_info": {
   "codemirror_mode": {
    "name": "ipython",
    "version": 3
   },
   "file_extension": ".py",
   "mimetype": "text/x-python",
   "name": "python",
   "nbconvert_exporter": "python",
   "pygments_lexer": "ipython3",
   "version": "3.11.7"
  }
 },
 "nbformat": 4,
 "nbformat_minor": 5
}
